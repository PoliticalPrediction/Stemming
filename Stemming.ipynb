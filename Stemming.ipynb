{
 "cells": [
  {
   "cell_type": "code",
   "execution_count": 1,
   "metadata": {},
   "outputs": [
    {
     "name": "stdout",
     "output_type": "stream",
     "text": [
      "provis maximum multipli owe care on go gone go wa thi\n"
     ]
    }
   ],
   "source": [
    "#Porter Stemmer\n",
    "import nltk\n",
    "from nltk.stem.porter import *\n",
    "\n",
    "porterStemmer = PorterStemmer()\n",
    "\n",
    "sentence = \"Provision Maximum multiply owed caring on go gone going was this\"\n",
    "wordList = nltk.word_tokenize(sentence)\n",
    "\n",
    "stemWords = [porterStemmer.stem(word) for word in wordList]\n",
    "\n",
    "print(' '.join(stemWords))"
   ]
  },
  {
   "cell_type": "code",
   "execution_count": 2,
   "metadata": {},
   "outputs": [
    {
     "name": "stdout",
     "output_type": "stream",
     "text": [
      "provis maximum multipli owe care on go gone go was this\n"
     ]
    }
   ],
   "source": [
    "#Snowball Stemmer\n",
    "import nltk\n",
    "from nltk.stem.snowball import SnowballStemmer\n",
    "\n",
    "snowBallStemmer = SnowballStemmer(\"english\")\n",
    "\n",
    "sentence = \"Provision Maximum multiply owed caring on go gone going was this\"\n",
    "wordList = nltk.word_tokenize(sentence)\n",
    "\n",
    "stemWords = [snowBallStemmer.stem(word) for word in wordList]\n",
    "\n",
    "print(' '.join(stemWords))"
   ]
  },
  {
   "cell_type": "code",
   "execution_count": 3,
   "metadata": {},
   "outputs": [
    {
     "name": "stdout",
     "output_type": "stream",
     "text": [
      "provis maximum multipli owe care on go gone go was this\n"
     ]
    }
   ],
   "source": [
    "#Stemming without Stop Words\n",
    "import nltk\n",
    "from nltk.stem.snowball import SnowballStemmer\n",
    "\n",
    "stemmer2 = SnowballStemmer(\"english\", ignore_stopwords=True)\n",
    "\n",
    "sentence = \"Provision Maximum multiply owed caring on go gone going was this\"\n",
    "wordList = nltk.word_tokenize(sentence)\n",
    "\n",
    "stemWords = [snowBallStemmer.stem(word) for word in wordList]\n",
    "\n",
    "print(' '.join(stemWords))"
   ]
  },
  {
   "cell_type": "code",
   "execution_count": 4,
   "metadata": {},
   "outputs": [
    {
     "name": "stdout",
     "output_type": "stream",
     "text": [
      "arabic danish dutch english finnish french german hungarian italian norwegian porter portuguese romanian russian spanish swedish\n"
     ]
    }
   ],
   "source": [
    " #Language Supported in SnowBall Stemmer\n",
    "print(\" \".join(SnowballStemmer.languages))\n"
   ]
  },
  {
   "cell_type": "code",
   "execution_count": 5,
   "metadata": {},
   "outputs": [
    {
     "name": "stdout",
     "output_type": "stream",
     "text": [
      "provid maxim multiply ow car on go gon going was thi\n"
     ]
    }
   ],
   "source": [
    "#Lancaster Stemmer\n",
    "import nltk\n",
    "from nltk.stem.lancaster import *\n",
    "\n",
    "lancasterStemmer = LancasterStemmer()\n",
    "\n",
    "sentence = \"Provision Maximum multiply owed caring on go gone going was this\"\n",
    "wordList = nltk.word_tokenize(sentence)\n",
    "\n",
    "stemWords = [lancasterStemmer.stem(word) for word in wordList]\n",
    "\n",
    "print(' '.join(stemWords))"
   ]
  },
  {
   "cell_type": "code",
   "execution_count": null,
   "metadata": {},
   "outputs": [],
   "source": []
  }
 ],
 "metadata": {
  "kernelspec": {
   "display_name": "Python 3",
   "language": "python",
   "name": "python3"
  },
  "language_info": {
   "codemirror_mode": {
    "name": "ipython",
    "version": 3
   },
   "file_extension": ".py",
   "mimetype": "text/x-python",
   "name": "python",
   "nbconvert_exporter": "python",
   "pygments_lexer": "ipython3",
   "version": "3.8.3"
  }
 },
 "nbformat": 4,
 "nbformat_minor": 4
}
